{
 "cells": [
  {
   "cell_type": "code",
   "execution_count": 16,
   "metadata": {},
   "outputs": [],
   "source": [
    "# Import required libraries\n",
    "import pandas as pd\n",
    "from sklearn.feature_extraction.text import TfidfVectorizer\n",
    "from sklearn.naive_bayes import MultinomialNB\n",
    "from sklearn.svm import LinearSVC\n",
    "from sklearn.linear_model import LogisticRegression\n",
    "from sklearn.metrics import accuracy_score, f1_score, confusion_matrix, precision_score, recall_score, roc_auc_score"
   ]
  },
  {
   "cell_type": "code",
   "execution_count": 17,
   "metadata": {},
   "outputs": [],
   "source": [
    "\n",
    "# Read the processed training data\n",
    "train_data = pd.read_csv('processed_data/train.csv', sep='\\t')\n",
    "val_data = pd.read_csv('processed_data/validation.csv', sep='\\t')\n",
    "\n",
    "# Split features and target\n",
    "X_train = train_data['preprocessed_message']\n",
    "X_train = X_train.fillna('')\n",
    "y_train = train_data['label']\n",
    "\n",
    "X_val = val_data['preprocessed_message']\n",
    "X_val = X_val.fillna('')\n",
    "y_val = val_data['label']\n",
    "\n",
    "# Convert text to TF-IDF features\n",
    "tfidf = TfidfVectorizer()\n",
    "X_train_tfidf = tfidf.fit_transform(X_train)\n",
    "X_val_tfidf = tfidf.transform(X_val)\n"
   ]
  },
  {
   "cell_type": "code",
   "execution_count": 23,
   "metadata": {},
   "outputs": [
    {
     "name": "stdout",
     "output_type": "stream",
     "text": [
      "Model Performance Metrics:\n",
      "\n",
      "Classifier\t\t\tAccuracy\tF1 Score\tRecall\t\tPrecision\tSpecificity\tAUC\n",
      "------------------------------------------------------------------------------------------------------------------------\n",
      "Naive Bayes         \t\t0.9596\t\t0.8263\t\t0.7039\t\t1.0000\t\t1.0000\t\t0.8520\n",
      "SVM                 \t\t0.9785\t\t0.9178\t\t0.8816\t\t0.9571\t\t0.9938\t\t0.9377\n",
      "Logistic Regression \t\t0.9498\t\t0.7863\t\t0.6776\t\t0.9364\t\t0.9927\t\t0.8352\n"
     ]
    }
   ],
   "source": [
    "nb_classifier = MultinomialNB()\n",
    "svm_classifier = LinearSVC(random_state=42)\n",
    "lr_classifier = LogisticRegression(random_state=42)\n",
    "\n",
    "nb_classifier.fit(X_train_tfidf, y_train)\n",
    "svm_classifier.fit(X_train_tfidf, y_train)\n",
    "lr_classifier.fit(X_train_tfidf, y_train)\n",
    "\n",
    "nb_pred = nb_classifier.predict(X_val_tfidf)\n",
    "svm_pred = svm_classifier.predict(X_val_tfidf)\n",
    "lr_pred = lr_classifier.predict(X_val_tfidf)\n",
    "\n",
    "def specificity(y_true, y_pred):\n",
    "    tn, fp, fn, tp = confusion_matrix(y_true, y_pred).ravel()\n",
    "    return tn / (tn + fp)\n",
    "\n",
    "classifiers = ['Naive Bayes', 'SVM', 'Logistic Regression']\n",
    "predictions = [nb_pred, svm_pred, lr_pred]\n",
    "\n",
    "print(\"Model Performance Metrics:\\n\")\n",
    "print(\"Classifier\\t\\t\\tAccuracy\\tF1 Score\\tRecall\\t\\tPrecision\\tSpecificity\\tAUC\")\n",
    "print(\"-\" * 120)\n",
    "\n",
    "for clf, pred in zip(classifiers, predictions):\n",
    "    acc = accuracy_score(y_val, pred)\n",
    "    f1 = f1_score(y_val, pred)\n",
    "    r = recall_score(y_val, pred)\n",
    "    p = precision_score(y_val, pred)\n",
    "    auc = roc_auc_score(y_val, pred)\n",
    "    s = specificity(y_val, pred)\n",
    "    print(f\"{clf:<20}\\t\\t{acc:.4f}\\t\\t{f1:.4f}\\t\\t{r:.4f}\\t\\t{p:.4f}\\t\\t{s:.4f}\\t\\t{auc:.4f}\")\n"
   ]
  },
  {
   "cell_type": "code",
   "execution_count": 25,
   "metadata": {},
   "outputs": [],
   "source": [
    "# Read the processed training data\n",
    "test_data = pd.read_csv('processed_data/test.csv', sep='\\t')\n",
    "\n",
    "# Split features and target\n",
    "X_test = test_data['preprocessed_message']\n",
    "X_test = X_test.fillna('')\n",
    "y_test = test_data['label']\n",
    "\n",
    "X_test_tfidf = tfidf.transform(X_test)"
   ]
  },
  {
   "cell_type": "code",
   "execution_count": 26,
   "metadata": {},
   "outputs": [],
   "source": [
    "nb_pred = nb_classifier.predict(X_test_tfidf)\n",
    "svm_pred = svm_classifier.predict(X_test_tfidf)\n",
    "lr_pred = lr_classifier.predict(X_test_tfidf)"
   ]
  },
  {
   "cell_type": "code",
   "execution_count": 27,
   "metadata": {},
   "outputs": [
    {
     "name": "stdout",
     "output_type": "stream",
     "text": [
      "Model Performance Metrics:\n",
      "\n",
      "Classifier\t\t\tAccuracy\tF1 Score\tRecall\t\tPrecision\tSpecificity\tAUC\n",
      "------------------------------------------------------------------------------------------------------------------------\n",
      "Naive Bayes         \t\t0.9659\t\t0.8538\t\t0.7450\t\t1.0000\t\t1.0000\t\t0.8725\n",
      "SVM                 \t\t0.9848\t\t0.9404\t\t0.8993\t\t0.9853\t\t0.9979\t\t0.9486\n",
      "Logistic Regression \t\t0.9570\t\t0.8110\t\t0.6913\t\t0.9810\t\t0.9979\t\t0.8446\n"
     ]
    }
   ],
   "source": [
    "classifiers = ['Naive Bayes', 'SVM', 'Logistic Regression']\n",
    "predictions = [nb_pred, svm_pred, lr_pred]\n",
    "\n",
    "print(\"Model Performance Metrics:\\n\")\n",
    "print(\"Classifier\\t\\t\\tAccuracy\\tF1 Score\\tRecall\\t\\tPrecision\\tSpecificity\\tAUC\")\n",
    "print(\"-\" * 120)\n",
    "\n",
    "for clf, pred in zip(classifiers, predictions):\n",
    "    acc = accuracy_score(y_test, pred)\n",
    "    f1 = f1_score(y_test, pred)\n",
    "    r = recall_score(y_test, pred)\n",
    "    p = precision_score(y_test, pred)\n",
    "    auc = roc_auc_score(y_test, pred)\n",
    "    s = specificity(y_test, pred)\n",
    "    print(f\"{clf:<20}\\t\\t{acc:.4f}\\t\\t{f1:.4f}\\t\\t{r:.4f}\\t\\t{p:.4f}\\t\\t{s:.4f}\\t\\t{auc:.4f}\")"
   ]
  },
  {
   "cell_type": "code",
   "execution_count": null,
   "metadata": {},
   "outputs": [],
   "source": []
  }
 ],
 "metadata": {
  "kernelspec": {
   "display_name": "env",
   "language": "python",
   "name": "python3"
  },
  "language_info": {
   "codemirror_mode": {
    "name": "ipython",
    "version": 3
   },
   "file_extension": ".py",
   "mimetype": "text/x-python",
   "name": "python",
   "nbconvert_exporter": "python",
   "pygments_lexer": "ipython3",
   "version": "3.9.21"
  }
 },
 "nbformat": 4,
 "nbformat_minor": 2
}
