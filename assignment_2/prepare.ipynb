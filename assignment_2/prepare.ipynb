{
 "cells": [
  {
   "cell_type": "markdown",
   "metadata": {},
   "source": [
    "* track the versions of data using dvc\n",
    "* load the raw data into raw_data.csv and save the split data into train.csv/validation.csv/test.csv\n",
    "* update train/validation/test split by choosing different random seed\n",
    "* checkout the first version (before update) using dvc and print the distribution of target variable (number of 0s and number of 1s) in train.csv, validation.csv, and test.csv\n"
   ]
  },
  {
   "cell_type": "code",
   "execution_count": null,
   "metadata": {},
   "outputs": [],
   "source": [
    "import pandas as pd\n",
    "import numpy as np\n",
    "import matplotlib.pyplot as plt\n",
    "import seaborn as sns"
   ]
  },
  {
   "cell_type": "code",
   "execution_count": null,
   "metadata": {},
   "outputs": [],
   "source": [
    "FILE_PATH = 'sms_spam_collection/SMSSpamCollection'"
   ]
  },
  {
   "cell_type": "code",
   "execution_count": null,
   "metadata": {},
   "outputs": [],
   "source": [
    "df = pd.read_csv(FILE_PATH, sep='\\t', names=['label', 'message'])"
   ]
  },
  {
   "cell_type": "code",
   "execution_count": null,
   "metadata": {},
   "outputs": [],
   "source": [
    "import re\n",
    "import string\n",
    "from nltk.corpus import stopwords\n",
    "from nltk.tokenize import word_tokenize\n",
    "from nltk.stem import WordNetLemmatizer\n",
    "import nltk"
   ]
  },
  {
   "cell_type": "code",
   "execution_count": null,
   "metadata": {},
   "outputs": [],
   "source": [
    "nltk.download('punkt')\n",
    "nltk.download('punkt_tab')\n",
    "nltk.download('stopwords')\n",
    "nltk.download('wordnet')"
   ]
  },
  {
   "cell_type": "code",
   "execution_count": null,
   "metadata": {},
   "outputs": [],
   "source": [
    "def preprocess_text(text):\n",
    "    text = text.lower()\n",
    "    text = re.sub(r'\\d+', '', text)\n",
    "    text = text.translate(str.maketrans('', '', string.punctuation))\n",
    "    tokens = word_tokenize(text)\n",
    "    tokens = [word for word in tokens if word not in stopwords.words('english')]\n",
    "    lemmatizer = WordNetLemmatizer()\n",
    "    tokens = [lemmatizer.lemmatize(token) for token in tokens]\n",
    "    return ' '.join(tokens)"
   ]
  },
  {
   "cell_type": "code",
   "execution_count": null,
   "metadata": {},
   "outputs": [],
   "source": [
    "df['preprocessed_message'] = df['message'].apply(preprocess_text)"
   ]
  },
  {
   "cell_type": "code",
   "execution_count": null,
   "metadata": {},
   "outputs": [],
   "source": [
    "df.sample(10)"
   ]
  },
  {
   "cell_type": "code",
   "execution_count": null,
   "metadata": {},
   "outputs": [],
   "source": [
    "df['label'] = df['label'].map({'ham': 0, 'spam': 1})"
   ]
  },
  {
   "cell_type": "code",
   "execution_count": null,
   "metadata": {},
   "outputs": [],
   "source": [
    "import dvc.api\n",
    "from dvc.repo import Repo"
   ]
  },
  {
   "cell_type": "code",
   "execution_count": null,
   "metadata": {},
   "outputs": [],
   "source": [
    "repo = Repo.init()"
   ]
  },
  {
   "cell_type": "markdown",
   "metadata": {},
   "source": [
    "## Version 1"
   ]
  },
  {
   "cell_type": "code",
   "execution_count": null,
   "metadata": {},
   "outputs": [],
   "source": [
    "# split the data into train/validation/test\n",
    "from sklearn.model_selection import train_test_split\n",
    "\n",
    "train_df, test_df = train_test_split(df, test_size=0.2, random_state=42)\n",
    "train_df, val_df = train_test_split(train_df, test_size=0.25, random_state=42)"
   ]
  },
  {
   "cell_type": "code",
   "execution_count": null,
   "metadata": {},
   "outputs": [],
   "source": [
    "# print percentage of each label\n",
    "print(\"Train : \", train_df['label'].value_counts() / len(train_df))\n",
    "print(\"Validation : \", val_df['label'].value_counts() / len(val_df))\n",
    "print(\"Test : \", test_df['label'].value_counts() / len(test_df))"
   ]
  },
  {
   "cell_type": "code",
   "execution_count": null,
   "metadata": {},
   "outputs": [],
   "source": [
    "# store the splits at train.csv/validation.csv/test.csv\n",
    "train_df.to_csv('processed_data/version_1/train.csv', index=False, sep='\\t')\n",
    "val_df.to_csv('processed_data/version_1/validation.csv', index=False, sep='\\t')\n",
    "test_df.to_csv('processed_data/version_1/test.csv', index=False, sep='\\t')"
   ]
  },
  {
   "cell_type": "code",
   "execution_count": null,
   "metadata": {},
   "outputs": [],
   "source": [
    "repo.add('processed_data/version_1/train.csv')\n",
    "repo.add('processed_data/version_1/validation.csv')\n",
    "repo.add('processed_data/version_1/test.csv')\n",
    "repo.commit('Version 1')"
   ]
  },
  {
   "cell_type": "markdown",
   "metadata": {},
   "source": [
    "## Version 2"
   ]
  },
  {
   "cell_type": "code",
   "execution_count": null,
   "metadata": {},
   "outputs": [],
   "source": [
    "train_df, test_df = train_test_split(df, test_size=0.2, random_state=43)\n",
    "train_df, val_df = train_test_split(train_df, test_size=0.25, random_state=43)\n",
    "\n",
    "print(\"Train : \", train_df['label'].value_counts() / len(train_df))\n",
    "print(\"Validation : \", val_df['label'].value_counts() / len(val_df))\n",
    "print(\"Test : \", test_df['label'].value_counts() / len(test_df))"
   ]
  },
  {
   "cell_type": "code",
   "execution_count": null,
   "metadata": {},
   "outputs": [],
   "source": [
    "train_df.to_csv('processed_data/version_2/train.csv', index=False, sep='\\t')\n",
    "val_df.to_csv('processed_data/version_2/validation.csv', index=False, sep='\\t')\n",
    "test_df.to_csv('processed_data/version_2/test.csv', index=False, sep='\\t')"
   ]
  },
  {
   "cell_type": "code",
   "execution_count": null,
   "metadata": {},
   "outputs": [],
   "source": [
    "repo.add('processed_data/version_2/train.csv')\n",
    "repo.add('processed_data/version_2/validation.csv')\n",
    "repo.add('processed_data/version_2/test.csv')\n",
    "repo.commit('Version 2')"
   ]
  },
  {
   "cell_type": "markdown",
   "metadata": {},
   "source": [
    "## Load versions and check class distribution"
   ]
  },
  {
   "cell_type": "markdown",
   "metadata": {},
   "source": [
    "### Version 1"
   ]
  },
  {
   "cell_type": "code",
   "execution_count": null,
   "metadata": {},
   "outputs": [],
   "source": [
    "repo.checkout('Version 1')"
   ]
  },
  {
   "cell_type": "code",
   "execution_count": null,
   "metadata": {},
   "outputs": [],
   "source": [
    "train_data = pd.read_csv('processed_data/train.csv', sep='\\t')\n",
    "val_data = pd.read_csv('processed_data/validation.csv', sep='\\t')\n",
    "test_data = pd.read_csv('processed_data/test.csv', sep='\\t')\n",
    "\n",
    "print(\"Train : \", train_data['label'].value_counts() / len(train_data))\n",
    "print(\"Validation : \", val_data['label'].value_counts() / len(val_data))\n",
    "print(\"Test : \", test_data['label'].value_counts() / len(test_data))\n"
   ]
  },
  {
   "cell_type": "markdown",
   "metadata": {},
   "source": [
    "### Version 2"
   ]
  },
  {
   "cell_type": "code",
   "execution_count": null,
   "metadata": {},
   "outputs": [],
   "source": [
    "repo.checkout('Version 2')\n",
    "train_data = pd.read_csv('processed_data/train.csv', sep='\\t')\n",
    "val_data = pd.read_csv('processed_data/validation.csv', sep='\\t')\n",
    "test_data = pd.read_csv('processed_data/test.csv', sep='\\t')\n",
    "\n",
    "print(\"Train : \", train_data['label'].value_counts() / len(train_data))\n",
    "print(\"Validation : \", val_data['label'].value_counts() / len(val_data))\n",
    "print(\"Test : \", test_data['label'].value_counts() / len(test_data))"
   ]
  }
 ],
 "metadata": {
  "language_info": {
   "name": "python"
  }
 },
 "nbformat": 4,
 "nbformat_minor": 2
}
