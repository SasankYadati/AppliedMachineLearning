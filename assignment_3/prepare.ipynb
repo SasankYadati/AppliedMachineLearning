{
 "cells": [
  {
   "cell_type": "markdown",
   "metadata": {},
   "source": [
    "Build a prototype for sms spam classification \n",
    "- in prepare.ipynb write the functions to \n",
    "    - load the data from a given file path\n",
    "    - preprocess the data (if needed)\n",
    "    - split the data into train/validation/test \n",
    "    - store the splits at train.csv/validation.csv/test.csv\n",
    "- in train.ipynb write the functions to\n",
    "    - fit a model on train data\n",
    "    - score a model on given data\n",
    "    - evaluate the model predictions\n",
    "    - validate the model\n",
    "        - fit on train\n",
    "        - score on train and validation\n",
    "        - evaluate on train and validation\n",
    "        - fine-tune hyper-params using train and validation (if necessary)\n",
    "- score three benchmark models on test data and select the best one\n"
   ]
  },
  {
   "cell_type": "code",
   "execution_count": 1,
   "metadata": {},
   "outputs": [],
   "source": [
    "import pandas as pd\n",
    "import numpy as np\n",
    "import matplotlib.pyplot as plt\n",
    "import seaborn as sns"
   ]
  },
  {
   "cell_type": "markdown",
   "metadata": {},
   "source": [
    "# Load the data"
   ]
  },
  {
   "cell_type": "code",
   "execution_count": 2,
   "metadata": {},
   "outputs": [],
   "source": [
    "FILE_PATH = 'sms_spam_collection/SMSSpamCollection'"
   ]
  },
  {
   "cell_type": "code",
   "execution_count": 3,
   "metadata": {},
   "outputs": [],
   "source": [
    "df = pd.read_csv(FILE_PATH, sep='\\t', names=['label', 'message'])"
   ]
  },
  {
   "cell_type": "code",
   "execution_count": 4,
   "metadata": {},
   "outputs": [
    {
     "data": {
      "text/html": [
       "<div>\n",
       "<style scoped>\n",
       "    .dataframe tbody tr th:only-of-type {\n",
       "        vertical-align: middle;\n",
       "    }\n",
       "\n",
       "    .dataframe tbody tr th {\n",
       "        vertical-align: top;\n",
       "    }\n",
       "\n",
       "    .dataframe thead th {\n",
       "        text-align: right;\n",
       "    }\n",
       "</style>\n",
       "<table border=\"1\" class=\"dataframe\">\n",
       "  <thead>\n",
       "    <tr style=\"text-align: right;\">\n",
       "      <th></th>\n",
       "      <th>label</th>\n",
       "      <th>message</th>\n",
       "    </tr>\n",
       "  </thead>\n",
       "  <tbody>\n",
       "    <tr>\n",
       "      <th>4036</th>\n",
       "      <td>spam</td>\n",
       "      <td>YOU ARE CHOSEN TO RECEIVE A £350 AWARD! Pls ca...</td>\n",
       "    </tr>\n",
       "    <tr>\n",
       "      <th>1717</th>\n",
       "      <td>ham</td>\n",
       "      <td>Sorry about earlier. Putting out fires.Are you...</td>\n",
       "    </tr>\n",
       "    <tr>\n",
       "      <th>664</th>\n",
       "      <td>ham</td>\n",
       "      <td>Leave it de:-). Start Prepare for next:-)..</td>\n",
       "    </tr>\n",
       "    <tr>\n",
       "      <th>1626</th>\n",
       "      <td>ham</td>\n",
       "      <td>Hi Dear Call me its urgnt. I don't know whats ...</td>\n",
       "    </tr>\n",
       "    <tr>\n",
       "      <th>38</th>\n",
       "      <td>ham</td>\n",
       "      <td>Anything lor... U decide...</td>\n",
       "    </tr>\n",
       "  </tbody>\n",
       "</table>\n",
       "</div>"
      ],
      "text/plain": [
       "     label                                            message\n",
       "4036  spam  YOU ARE CHOSEN TO RECEIVE A £350 AWARD! Pls ca...\n",
       "1717   ham  Sorry about earlier. Putting out fires.Are you...\n",
       "664    ham        Leave it de:-). Start Prepare for next:-)..\n",
       "1626   ham  Hi Dear Call me its urgnt. I don't know whats ...\n",
       "38     ham                        Anything lor... U decide..."
      ]
     },
     "execution_count": 4,
     "metadata": {},
     "output_type": "execute_result"
    }
   ],
   "source": [
    "df.sample(5)\n"
   ]
  },
  {
   "cell_type": "markdown",
   "metadata": {},
   "source": [
    "# Preprocess the data\n",
    "* lowercase the text\n",
    "* tokenize the text\n",
    "* remove stop words\n"
   ]
  },
  {
   "cell_type": "code",
   "execution_count": 5,
   "metadata": {},
   "outputs": [],
   "source": [
    "import re\n",
    "import string\n",
    "from nltk.corpus import stopwords\n",
    "from nltk.tokenize import word_tokenize\n",
    "from nltk.stem import WordNetLemmatizer\n",
    "import nltk"
   ]
  },
  {
   "cell_type": "code",
   "execution_count": 6,
   "metadata": {},
   "outputs": [
    {
     "name": "stderr",
     "output_type": "stream",
     "text": [
      "[nltk_data] Downloading package punkt to\n",
      "[nltk_data]     C:\\Users\\saisa\\AppData\\Roaming\\nltk_data...\n",
      "[nltk_data]   Package punkt is already up-to-date!\n",
      "[nltk_data] Downloading package punkt_tab to\n",
      "[nltk_data]     C:\\Users\\saisa\\AppData\\Roaming\\nltk_data...\n",
      "[nltk_data]   Package punkt_tab is already up-to-date!\n",
      "[nltk_data] Downloading package stopwords to\n",
      "[nltk_data]     C:\\Users\\saisa\\AppData\\Roaming\\nltk_data...\n",
      "[nltk_data]   Package stopwords is already up-to-date!\n",
      "[nltk_data] Downloading package wordnet to\n",
      "[nltk_data]     C:\\Users\\saisa\\AppData\\Roaming\\nltk_data...\n",
      "[nltk_data]   Package wordnet is already up-to-date!\n"
     ]
    },
    {
     "data": {
      "text/plain": [
       "True"
      ]
     },
     "execution_count": 6,
     "metadata": {},
     "output_type": "execute_result"
    }
   ],
   "source": [
    "nltk.download('punkt')\n",
    "nltk.download('punkt_tab')\n",
    "nltk.download('stopwords')\n",
    "nltk.download('wordnet')"
   ]
  },
  {
   "cell_type": "code",
   "execution_count": 7,
   "metadata": {},
   "outputs": [],
   "source": [
    "pd.set_option('display.max_colwidth', None)"
   ]
  },
  {
   "cell_type": "code",
   "execution_count": 8,
   "metadata": {},
   "outputs": [],
   "source": [
    "def preprocess_text(text):\n",
    "    text = text.lower()\n",
    "    text = re.sub(r'\\d+', '', text)\n",
    "    text = text.translate(str.maketrans('', '', string.punctuation))\n",
    "    tokens = word_tokenize(text)\n",
    "    tokens = [word for word in tokens if word not in stopwords.words('english')]\n",
    "    lemmatizer = WordNetLemmatizer()\n",
    "    tokens = [lemmatizer.lemmatize(token) for token in tokens]\n",
    "    return ' '.join(tokens)\n"
   ]
  },
  {
   "cell_type": "code",
   "execution_count": 9,
   "metadata": {},
   "outputs": [],
   "source": [
    "df['preprocessed_message'] = df['message'].apply(preprocess_text)"
   ]
  },
  {
   "cell_type": "code",
   "execution_count": 10,
   "metadata": {},
   "outputs": [
    {
     "data": {
      "text/html": [
       "<div>\n",
       "<style scoped>\n",
       "    .dataframe tbody tr th:only-of-type {\n",
       "        vertical-align: middle;\n",
       "    }\n",
       "\n",
       "    .dataframe tbody tr th {\n",
       "        vertical-align: top;\n",
       "    }\n",
       "\n",
       "    .dataframe thead th {\n",
       "        text-align: right;\n",
       "    }\n",
       "</style>\n",
       "<table border=\"1\" class=\"dataframe\">\n",
       "  <thead>\n",
       "    <tr style=\"text-align: right;\">\n",
       "      <th></th>\n",
       "      <th>label</th>\n",
       "      <th>message</th>\n",
       "      <th>preprocessed_message</th>\n",
       "    </tr>\n",
       "  </thead>\n",
       "  <tbody>\n",
       "    <tr>\n",
       "      <th>5378</th>\n",
       "      <td>spam</td>\n",
       "      <td>Free entry to the gr8prizes wkly comp 4 a chance to win the latest Nokia 8800, PSP or £250 cash every wk.TXT GREAT to 80878 http//www.gr8prizes.com 08715705022</td>\n",
       "      <td>free entry grprizes wkly comp chance win latest nokia psp £ cash every wktxt great httpwwwgrprizescom</td>\n",
       "    </tr>\n",
       "    <tr>\n",
       "      <th>3318</th>\n",
       "      <td>ham</td>\n",
       "      <td>No worries, hope photo shoot went well. have a spiffing fun at workage.</td>\n",
       "      <td>worry hope photo shoot went well spiffing fun workage</td>\n",
       "    </tr>\n",
       "    <tr>\n",
       "      <th>1247</th>\n",
       "      <td>ham</td>\n",
       "      <td>I do know what u mean,  is the king of not havin credit! I'm goin2bed now. Night night sweet! Only1more sleep!</td>\n",
       "      <td>know u mean king havin credit im goinbed night night sweet onlymore sleep</td>\n",
       "    </tr>\n",
       "    <tr>\n",
       "      <th>4942</th>\n",
       "      <td>ham</td>\n",
       "      <td>Omg you can make a wedding chapel in frontierville? Why do they get all the good stuff?</td>\n",
       "      <td>omg make wedding chapel frontierville get good stuff</td>\n",
       "    </tr>\n",
       "    <tr>\n",
       "      <th>643</th>\n",
       "      <td>ham</td>\n",
       "      <td>Probably gonna swing by in a wee bit</td>\n",
       "      <td>probably gon na swing wee bit</td>\n",
       "    </tr>\n",
       "    <tr>\n",
       "      <th>3347</th>\n",
       "      <td>ham</td>\n",
       "      <td>U're welcome... Caught u using broken english again...</td>\n",
       "      <td>ure welcome caught u using broken english</td>\n",
       "    </tr>\n",
       "    <tr>\n",
       "      <th>2772</th>\n",
       "      <td>ham</td>\n",
       "      <td>Then ur sis how?</td>\n",
       "      <td>ur si</td>\n",
       "    </tr>\n",
       "    <tr>\n",
       "      <th>2958</th>\n",
       "      <td>ham</td>\n",
       "      <td>I would but I'm still cozy. And exhausted from last night.nobody went to school or work. Everything is closed.</td>\n",
       "      <td>would im still cozy exhausted last nightnobody went school work everything closed</td>\n",
       "    </tr>\n",
       "    <tr>\n",
       "      <th>3058</th>\n",
       "      <td>ham</td>\n",
       "      <td>Just woke up. Yeesh its late. But I didn't fall asleep til &amp;lt;#&amp;gt; am :/</td>\n",
       "      <td>woke yeesh late didnt fall asleep til ltgt</td>\n",
       "    </tr>\n",
       "    <tr>\n",
       "      <th>2769</th>\n",
       "      <td>ham</td>\n",
       "      <td>I am on the way to ur home</td>\n",
       "      <td>way ur home</td>\n",
       "    </tr>\n",
       "  </tbody>\n",
       "</table>\n",
       "</div>"
      ],
      "text/plain": [
       "     label  \\\n",
       "5378  spam   \n",
       "3318   ham   \n",
       "1247   ham   \n",
       "4942   ham   \n",
       "643    ham   \n",
       "3347   ham   \n",
       "2772   ham   \n",
       "2958   ham   \n",
       "3058   ham   \n",
       "2769   ham   \n",
       "\n",
       "                                                                                                                                                              message  \\\n",
       "5378  Free entry to the gr8prizes wkly comp 4 a chance to win the latest Nokia 8800, PSP or £250 cash every wk.TXT GREAT to 80878 http//www.gr8prizes.com 08715705022   \n",
       "3318                                                                                         No worries, hope photo shoot went well. have a spiffing fun at workage.    \n",
       "1247                                                  I do know what u mean,  is the king of not havin credit! I'm goin2bed now. Night night sweet! Only1more sleep!    \n",
       "4942                                                                          Omg you can make a wedding chapel in frontierville? Why do they get all the good stuff?   \n",
       "643                                                                                                                              Probably gonna swing by in a wee bit   \n",
       "3347                                                                                                           U're welcome... Caught u using broken english again...   \n",
       "2772                                                                                                                                                 Then ur sis how?   \n",
       "2958                                                   I would but I'm still cozy. And exhausted from last night.nobody went to school or work. Everything is closed.   \n",
       "3058                                                                                       Just woke up. Yeesh its late. But I didn't fall asleep til &lt;#&gt; am :/   \n",
       "2769                                                                                                                                       I am on the way to ur home   \n",
       "\n",
       "                                                                                       preprocessed_message  \n",
       "5378  free entry grprizes wkly comp chance win latest nokia psp £ cash every wktxt great httpwwwgrprizescom  \n",
       "3318                                                  worry hope photo shoot went well spiffing fun workage  \n",
       "1247                              know u mean king havin credit im goinbed night night sweet onlymore sleep  \n",
       "4942                                                   omg make wedding chapel frontierville get good stuff  \n",
       "643                                                                           probably gon na swing wee bit  \n",
       "3347                                                              ure welcome caught u using broken english  \n",
       "2772                                                                                                  ur si  \n",
       "2958                      would im still cozy exhausted last nightnobody went school work everything closed  \n",
       "3058                                                             woke yeesh late didnt fall asleep til ltgt  \n",
       "2769                                                                                            way ur home  "
      ]
     },
     "execution_count": 10,
     "metadata": {},
     "output_type": "execute_result"
    }
   ],
   "source": [
    "df.sample(10)"
   ]
  },
  {
   "cell_type": "code",
   "execution_count": 11,
   "metadata": {},
   "outputs": [],
   "source": [
    "df['label'] = df['label'].map({'ham': 0, 'spam': 1})"
   ]
  },
  {
   "cell_type": "code",
   "execution_count": 12,
   "metadata": {},
   "outputs": [
    {
     "data": {
      "text/plain": [
       "label\n",
       "0    4825\n",
       "1     747\n",
       "Name: count, dtype: int64"
      ]
     },
     "execution_count": 12,
     "metadata": {},
     "output_type": "execute_result"
    }
   ],
   "source": [
    "df['label'].value_counts()"
   ]
  },
  {
   "cell_type": "code",
   "execution_count": 13,
   "metadata": {},
   "outputs": [],
   "source": [
    "# split the data into train/validation/test\n",
    "from sklearn.model_selection import train_test_split\n",
    "\n",
    "train_df, test_df = train_test_split(df, test_size=0.2, random_state=42)\n",
    "train_df, val_df = train_test_split(train_df, test_size=0.25, random_state=42)"
   ]
  },
  {
   "cell_type": "code",
   "execution_count": 14,
   "metadata": {},
   "outputs": [
    {
     "name": "stdout",
     "output_type": "stream",
     "text": [
      "Train :  label\n",
      "0    0.866547\n",
      "1    0.133453\n",
      "Name: count, dtype: float64\n",
      "Validation :  label\n",
      "0    0.863677\n",
      "1    0.136323\n",
      "Name: count, dtype: float64\n",
      "Test :  label\n",
      "0    0.866368\n",
      "1    0.133632\n",
      "Name: count, dtype: float64\n"
     ]
    }
   ],
   "source": [
    "# print percentage of each label\n",
    "print(\"Train : \", train_df['label'].value_counts() / len(train_df))\n",
    "print(\"Validation : \", val_df['label'].value_counts() / len(val_df))\n",
    "print(\"Test : \", test_df['label'].value_counts() / len(test_df))"
   ]
  },
  {
   "cell_type": "code",
   "execution_count": 17,
   "metadata": {},
   "outputs": [],
   "source": [
    "# store the splits at train.csv/validation.csv/test.csv\n",
    "train_df.to_csv('processed_data/train.csv', index=False, sep='\\t')\n",
    "val_df.to_csv('processed_data/validation.csv', index=False, sep='\\t')\n",
    "test_df.to_csv('processed_data/test.csv', index=False, sep='\\t')\n"
   ]
  }
 ],
 "metadata": {
  "kernelspec": {
   "display_name": "env",
   "language": "python",
   "name": "python3"
  },
  "language_info": {
   "codemirror_mode": {
    "name": "ipython",
    "version": 3
   },
   "file_extension": ".py",
   "mimetype": "text/x-python",
   "name": "python",
   "nbconvert_exporter": "python",
   "pygments_lexer": "ipython3",
   "version": "3.9.21"
  }
 },
 "nbformat": 4,
 "nbformat_minor": 2
}
